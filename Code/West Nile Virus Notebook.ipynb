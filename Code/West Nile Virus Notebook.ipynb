{
 "cells": [
  {
   "cell_type": "markdown",
   "metadata": {},
   "source": [
    "# Chicago West Nile Virus Analysis\n",
    "\n",
    "(by Steve Gregoire)\n"
   ]
  },
  {
   "cell_type": "code",
   "execution_count": null,
   "metadata": {},
   "outputs": [],
   "source": []
  },
  {
   "cell_type": "code",
   "execution_count": 8,
   "metadata": {},
   "outputs": [],
   "source": [
    "import requests\n",
    "import collections\n",
    "import time\n",
    "import numpy             as np\n",
    "import pandas            as pd\n",
    "import seaborn           as sns\n",
    "import matplotlib        as mtl\n",
    "import statsmodels.api   as sm\n",
    "\n",
    "import matplotlib.pyplot as plt\n",
    "plt.style.use(\"ggplot\")\n",
    "\n",
    "from datetime                        import timedelta\n",
    "from datetime                        import date\n",
    "from datetime                        import datetime\n",
    "\n",
    "############################################################\n",
    "#Many custom functions are pulled from the following package\n",
    "import project_4_package.project_4_data as p4\n",
    "#############################################################\n",
    "\n",
    "from sklearn.preprocessing           import StandardScaler\n",
    "\n",
    "from sklearn.model_selection         import train_test_split\n",
    "from sklearn.model_selection         import GridSearchCV\n",
    "\n",
    "from sklearn.linear_model            import LinearRegression\n",
    "\n",
    "from sklearn.ensemble                import BaggingClassifier\n",
    "from sklearn.ensemble                import RandomForestClassifier\n",
    "from sklearn.ensemble                import ExtraTreesClassifier\n",
    "from sklearn.ensemble                import GradientBoostingClassifier\n",
    "from sklearn.tree                    import DecisionTreeClassifier\n",
    "from sklearn.neighbors               import KNeighborsClassifier\n",
    "from sklearn.linear_model            import LogisticRegression\n",
    "\n",
    "from sklearn.metrics                 import confusion_matrix\n",
    "from sklearn.metrics                 import classification_report\n",
    "from sklearn.metrics                 import roc_auc_score\n",
    "from sklearn.metrics                 import accuracy_score\n",
    "from sklearn.metrics                 import f1_score\n",
    "from sklearn.model_selection         import cross_val_score\n",
    "\n",
    "from sklearn.pipeline                import Pipeline\n",
    "from sklearn.preprocessing           import LabelBinarizer"
   ]
  },
  {
   "cell_type": "code",
   "execution_count": 9,
   "metadata": {},
   "outputs": [
    {
     "name": "stdout",
     "output_type": "stream",
     "text": [
      "Weather shape before: (2944, 22)\n",
      "Weather shape after: (2944, 63)\n",
      "Train Rows, Columns before (10506, 13)\n",
      "train rows after merge (10506, 75)\n",
      "test rows after join weather (116293, 74)\n"
     ]
    }
   ],
   "source": [
    "weather = pd.read_csv('../Assets/input/weather.csv')\n",
    "train   = pd.read_csv('../Assets/input/train.csv')\n",
    "test    = pd.read_csv('../Assets/input/test.csv')\n",
    "\n",
    "\n",
    "process_weather(weather)\n",
    "process_data(train)\n",
    "process_data(test)\n",
    "\n",
    "\n",
    "print('Train Rows, Columns before',train.shape)\n",
    "\n",
    "w2 = weather[weather['Station']==1]\n",
    "df = pd.merge(train,w2,on='Date',how='inner')\n",
    "print('train rows after merge',df.shape)\n",
    "\n",
    "df_test = pd.merge(test,w2,on='Date',how='inner')\n",
    "print('test rows after join weather',df_test.shape)"
   ]
  },
  {
   "cell_type": "code",
   "execution_count": 4,
   "metadata": {},
   "outputs": [
    {
     "name": "stdout",
     "output_type": "stream",
     "text": [
      "Libraries Imported\n"
     ]
    }
   ],
   "source": [
    "# This is the CodeSum dictionary.\n",
    "dictonary = {'+FC': 'TORNADO OR WATERSPOUT',\n",
    "        'FC': 'FUNNEL CLOUD',\n",
    "        'TS': 'THUNDERSTORM',\n",
    "        'GR': 'HAIL',\n",
    "        'RA': 'RAIN',\n",
    "        'DZ': 'DRIZZLE',\n",
    "        'SN': 'SNOW',\n",
    "        'SG': 'SNOW  GRAINS',\n",
    "        'GS': 'SMALL HAIL',\n",
    "        'PL':  'ICE PELLETS',\n",
    "        'IC':  'ICE CRYSTALS',\n",
    "        'FG+': 'HEAVY FOG',\n",
    "        'FG':  'FOG',\n",
    "        'BR':  'MIST',\n",
    "        'UP':  'UNKNOWN PRECIPITATION',\n",
    "        'HZ':  'HAZE',\n",
    "        'FU':  'SMOKE',\n",
    "        'VA':  'VOLCANIC ASH',\n",
    "        'DU':  'WIDESPREAD DUST',\n",
    "        'DS':  'DUSTSTORM',\n",
    "        'PO':  'SAND or DUST WHIRLS',\n",
    "        'SA':  'SAND',\n",
    "        'SS':  'SANDSTORM',\n",
    "        'PY':  'SPRAY',\n",
    "        'SQ':  'SQUALL',\n",
    "        'DR':  'LOW DRIFTING',\n",
    "        'SH':  'SHOWER',\n",
    "        'FZ':  'FREEZING',\n",
    "        'MI':  'SHALLOW',\n",
    "        'PR':  'PARTIAL',\n",
    "        'BC':  'PATCHES',\n",
    "        'BL':  'BLOWING',\n",
    "        'VC':  'VICINITY',\n",
    "        '-': 'LIGHT',\n",
    "        '+':   'HEAVY',\n",
    "        'NO SIGN': 'MODERATE',\n",
    "        'VCTS': 'VICINITY THUNDERSTORM',\n",
    "        'TSRA': 'THUNDERSTORM RAIN',\n",
    "        'BCFG': 'PATCHES FOG',      \n",
    "        'MIFG': 'SHALLOW FOG', \n",
    "        'VCFG': 'VICINITY FOG' }\n",
    "\n",
    "\n",
    "\n",
    "# Function to convert weather codes to words\n",
    "def get_codes(string,k):\n",
    "    l = string.split()\n",
    "    if k in l:\n",
    "        return 1\n",
    "    else:\n",
    "        return 0\n",
    "    \n",
    "\n",
    "\n",
    "\n",
    "def process_weather(in_df):\n",
    "    # Creating features from the weather codes in the CodeSum feature. \n",
    "    print('Weather shape before:',in_df.shape)\n",
    "    for k in dictonary.keys():\n",
    "        in_df[dictonary[k]] = in_df['CodeSum'].apply(lambda x: get_codes(x,k))\n",
    "        \n",
    "    # Filling in empty spaces in CodeSum\n",
    "    in_df['CodeSum'] = in_df['CodeSum'].apply(lambda x: 'nothing' if x == ' ' else x)\n",
    "    \n",
    "    # Filling in \"-\" in Sunrise and Sunset\n",
    "    in_df['Sunrise'] = in_df['Sunrise'].apply(lambda x: np.NaN if x == '-' else x)\n",
    "    in_df['Sunset'] = in_df['Sunset'].apply(lambda x: np.NaN if x == '-' else x)\n",
    "    in_df['PrecipTotal'] = in_df['PrecipTotal'].apply(lambda x: .001 if str(x).strip() == 'T' else x)\n",
    "    in_df['PrecipTotal'] = in_df['PrecipTotal'].apply(lambda x: .001 if str(x).strip() == 'M' else x)\n",
    "    in_df['PrecipTotal'] = in_df['PrecipTotal'].astype('float64')\n",
    "    in_df['AvgSpeed'] = in_df['AvgSpeed'].apply(lambda x: .001 if str(x).strip() == 'T' else x)\n",
    "    in_df['AvgSpeed'] = in_df['AvgSpeed'].apply(lambda x: .001 if str(x).strip() == 'M' else x)\n",
    "    in_df['AvgSpeed'] = in_df['AvgSpeed'].astype('float64')\n",
    "    in_df['Tavg'] = in_df['Tavg'].apply(lambda x: .001 if str(x).strip() == 'T' else x)\n",
    "    in_df['Tavg'] = in_df['Tavg'].apply(lambda x: .001 if str(x).strip() == 'M' else x)\n",
    "    in_df['Tavg'] = in_df['Tavg'].astype('float64')\n",
    "    print('Weather shape after:',in_df.shape)\n",
    "    \n",
    "def dataframe_differences(first_df,second_df,update_first=False,update_second=False):\n",
    "    only_in_first = set(first_df.columns) .difference(set(second_df.columns))\n",
    "    only_in_second = set(second_df.columns).difference(set(first_df.columns))\n",
    "    print ('Only in first BEFORE:' ,set(first_df.columns) .difference(set(second_df.columns)))\n",
    "    print ('Only in second BEFORE:',set(second_df.columns).difference(set(first_df.columns)))\n",
    "    if update_first == True:\n",
    "        for s in only_in_second:\n",
    "            first_df[s]=0\n",
    "    if update_second == True:\n",
    "        for f in only_in_first:\n",
    "            second_df[f]=0\n",
    "    if update_first or update_second:\n",
    "        print('--------------------------------------------')\n",
    "        print ('Only in first AFTER:' ,set(first_df.columns) .difference(set(second_df.columns)))\n",
    "        print ('Only in second AFTER:',set(second_df.columns).difference(set(first_df.columns)))\n",
    "\n",
    "def process_data(in_df):\n",
    "    from datetime import datetime as dt\n",
    "    in_df['Date_Number']= pd.to_datetime(in_df['Date']).map(datetime.toordinal)\n",
    "    in_df['Block'] = in_df['Block'].astype(str)   \n",
    "\n",
    "    \n",
    "def drop_columns_from_csv(in_df,col_list):\n",
    "    for col in col_list:\n",
    "        try:\n",
    "            in_df.drop(col,axis=1,inplace=True)\n",
    "        except:\n",
    "            continue\n",
    "          \n",
    "print('Libraries Imported')"
   ]
  },
  {
   "cell_type": "code",
   "execution_count": 4,
   "metadata": {},
   "outputs": [
    {
     "ename": "NameError",
     "evalue": "name 'train' is not defined",
     "output_type": "error",
     "traceback": [
      "\u001b[0;31m---------------------------------------------------------------------------\u001b[0m",
      "\u001b[0;31mNameError\u001b[0m                                 Traceback (most recent call last)",
      "\u001b[0;32m<ipython-input-4-0b73e5050d5d>\u001b[0m in \u001b[0;36m<module>\u001b[0;34m()\u001b[0m\n\u001b[0;32m----> 1\u001b[0;31m \u001b[0mtrain\u001b[0m\u001b[0;34m.\u001b[0m\u001b[0mcolumns\u001b[0m\u001b[0;34m\u001b[0m\u001b[0m\n\u001b[0m",
      "\u001b[0;31mNameError\u001b[0m: name 'train' is not defined"
     ]
    }
   ],
   "source": [
    "train.columns"
   ]
  },
  {
   "cell_type": "code",
   "execution_count": 3,
   "metadata": {},
   "outputs": [
    {
     "name": "stdout",
     "output_type": "stream",
     "text": [
      "Weather shape before: (2944, 22)\n",
      "Weather shape after: (2944, 63)\n"
     ]
    },
    {
     "ename": "NameError",
     "evalue": "name 'datetime' is not defined",
     "output_type": "error",
     "traceback": [
      "\u001b[0;31m---------------------------------------------------------------------------\u001b[0m",
      "\u001b[0;31mNameError\u001b[0m                                 Traceback (most recent call last)",
      "\u001b[0;32m<ipython-input-3-9bcf2ae26733>\u001b[0m in \u001b[0;36m<module>\u001b[0;34m()\u001b[0m\n\u001b[1;32m      5\u001b[0m \u001b[0;34m\u001b[0m\u001b[0m\n\u001b[1;32m      6\u001b[0m \u001b[0mprocess_weather\u001b[0m\u001b[0;34m(\u001b[0m\u001b[0mweather\u001b[0m\u001b[0;34m)\u001b[0m\u001b[0;34m\u001b[0m\u001b[0m\n\u001b[0;32m----> 7\u001b[0;31m \u001b[0mprocess_data\u001b[0m\u001b[0;34m(\u001b[0m\u001b[0mtrain\u001b[0m\u001b[0;34m)\u001b[0m\u001b[0;34m\u001b[0m\u001b[0m\n\u001b[0m\u001b[1;32m      8\u001b[0m \u001b[0mprocess_data\u001b[0m\u001b[0;34m(\u001b[0m\u001b[0mtest\u001b[0m\u001b[0;34m)\u001b[0m\u001b[0;34m\u001b[0m\u001b[0m\n\u001b[1;32m      9\u001b[0m \u001b[0;34m\u001b[0m\u001b[0m\n",
      "\u001b[0;32m<ipython-input-1-4cd411e94cd4>\u001b[0m in \u001b[0;36mprocess_data\u001b[0;34m(in_df)\u001b[0m\n\u001b[1;32m    144\u001b[0m \u001b[0;32mdef\u001b[0m \u001b[0mprocess_data\u001b[0m\u001b[0;34m(\u001b[0m\u001b[0min_df\u001b[0m\u001b[0;34m)\u001b[0m\u001b[0;34m:\u001b[0m\u001b[0;34m\u001b[0m\u001b[0m\n\u001b[1;32m    145\u001b[0m     \u001b[0;32mfrom\u001b[0m \u001b[0mdatetime\u001b[0m \u001b[0;32mimport\u001b[0m \u001b[0mdatetime\u001b[0m \u001b[0;32mas\u001b[0m \u001b[0mdt\u001b[0m\u001b[0;34m\u001b[0m\u001b[0m\n\u001b[0;32m--> 146\u001b[0;31m     \u001b[0min_df\u001b[0m\u001b[0;34m[\u001b[0m\u001b[0;34m'Date_Number'\u001b[0m\u001b[0;34m]\u001b[0m\u001b[0;34m=\u001b[0m \u001b[0mpd\u001b[0m\u001b[0;34m.\u001b[0m\u001b[0mto_datetime\u001b[0m\u001b[0;34m(\u001b[0m\u001b[0min_df\u001b[0m\u001b[0;34m[\u001b[0m\u001b[0;34m'Date'\u001b[0m\u001b[0;34m]\u001b[0m\u001b[0;34m)\u001b[0m\u001b[0;34m.\u001b[0m\u001b[0mmap\u001b[0m\u001b[0;34m(\u001b[0m\u001b[0mdatetime\u001b[0m\u001b[0;34m.\u001b[0m\u001b[0mtoordinal\u001b[0m\u001b[0;34m)\u001b[0m\u001b[0;34m\u001b[0m\u001b[0m\n\u001b[0m\u001b[1;32m    147\u001b[0m     \u001b[0min_df\u001b[0m\u001b[0;34m[\u001b[0m\u001b[0;34m'Block'\u001b[0m\u001b[0;34m]\u001b[0m \u001b[0;34m=\u001b[0m \u001b[0min_df\u001b[0m\u001b[0;34m[\u001b[0m\u001b[0;34m'Block'\u001b[0m\u001b[0;34m]\u001b[0m\u001b[0;34m.\u001b[0m\u001b[0mastype\u001b[0m\u001b[0;34m(\u001b[0m\u001b[0mstr\u001b[0m\u001b[0;34m)\u001b[0m\u001b[0;34m\u001b[0m\u001b[0m\n\u001b[1;32m    148\u001b[0m \u001b[0;34m\u001b[0m\u001b[0m\n",
      "\u001b[0;31mNameError\u001b[0m: name 'datetime' is not defined"
     ]
    }
   ],
   "source": []
  },
  {
   "cell_type": "code",
   "execution_count": 117,
   "metadata": {},
   "outputs": [
    {
     "name": "stderr",
     "output_type": "stream",
     "text": [
      "/anaconda3/envs/dsi/lib/python3.6/site-packages/seaborn/categorical.py:1428: FutureWarning: remove_na is deprecated and is a private function. Do not use.\n",
      "  stat_data = remove_na(group_data)\n"
     ]
    },
    {
     "data": {
      "image/png": "[encoded data removed]",
      "text/plain": [
       "<matplotlib.figure.Figure at 0x1111936a0>"
      ]
     },
     "metadata": {},
     "output_type": "display_data"
    }
   ],
   "source": [
    "plot_columns = ['Latitude','Longitude','Block','WnvPresent','Date_Number','Species']\n",
    "\n",
    "\n",
    "temp_df[(temp_df['WnvPresent'] == 1)]\n",
    "\n",
    "sns.set_style(\"whitegrid\")\n",
    "tips = sns.load_dataset(\"tips\")\n",
    "ax = sns.barplot(x=\"Species\", y=\"WnvPresent\", data=temp_df)"
   ]
  },
  {
   "cell_type": "code",
   "execution_count": 118,
   "metadata": {},
   "outputs": [
    {
     "name": "stdout",
     "output_type": "stream",
     "text": [
      "Inside funct file name features_20180612_184917.csv\n"
     ]
    }
   ],
   "source": [
    "##The write_param function saves features to a CSV file where you can manually include or exclude\n",
    "##Set the variable load_features = True to drop column marked for removal in the CSV file\n",
    "\n",
    "\n",
    "#######################\n",
    "generate_new_features = False\n",
    "#######################\n",
    "\n",
    "if generate_new_features:\n",
    "    file_name = p4.write_params(df)\n",
    "    print(file_name)\n",
    "    \n",
    "\n",
    "######################    \n",
    "load_features = True\n",
    "#####################    \n",
    "#Load features\n",
    "if load_features:\n",
    "    file_name = 'features_20180612_184917.csv'  #This is an override\n",
    "    drop_cols = p4.read_params(file_name)\n",
    "    drop_columns_from_csv(df,drop_cols)\n",
    "    drop_columns_from_csv(df_test,drop_cols)\n",
    "\n",
    "   "
   ]
  },
  {
   "cell_type": "code",
   "execution_count": 119,
   "metadata": {},
   "outputs": [
    {
     "name": "stdout",
     "output_type": "stream",
     "text": [
      "Only in first BEFORE: {'WnvPresent'}\n",
      "Only in second BEFORE: {'Trap_T090B', 'Block_26', 'Trap_T002A', 'Trap_T200A', 'Species_UNSPECIFIED CULEX', 'Trap_T218B', 'Trap_T218A', 'Trap_T090A', 'Trap_T002B', 'Trap_T218C', 'Trap_T200B', 'Trap_T128A', 'Id', 'Trap_T090C', 'Trap_T065A', 'Trap_T234'}\n",
      "--------------------------------------------\n",
      "Only in first AFTER: {'WnvPresent'}\n",
      "Only in second AFTER: set()\n",
      "\n",
      "\n",
      "---------------------------------\n",
      "Train Test Split complete\n"
     ]
    }
   ],
   "source": [
    "##Dummy\n",
    "df = pd.get_dummies(df)\n",
    "df_test = pd.get_dummies(df_test)\n",
    "\n",
    "#This is a custom function that changes the shape of two dataframs to match\n",
    "#this is run after get_dummies\n",
    "dataframe_differences(df,df_test,update_first=True,update_second=False)\n",
    "\n",
    "#Final assignment of features and target\n",
    "\n",
    "feature_cols = [col for col in df.columns if not 'WnvPresent' in col]\n",
    "X = df[feature_cols]\n",
    "y = df['WnvPresent']\n",
    "X_train, X_test, y_train, y_test = train_test_split(X,y,test_size=.3)\n",
    "\n",
    "print('')\n",
    "print('')\n",
    "print('---------------------------------')\n",
    "print('Train Test Split complete')\n"
   ]
  },
  {
   "cell_type": "code",
   "execution_count": 120,
   "metadata": {},
   "outputs": [
    {
     "name": "stdout",
     "output_type": "stream",
     "text": [
      "Best Params= {'n_neighbors': 21, 'weights': 'uniform'} \n",
      "Accuracy on 10-fold cross-validation= 0.9503671471308132\n",
      "Accuracy on test set: 0.940989847715736\n",
      "confusion matrix on test set:\n",
      " [[2966    0]\n",
      " [ 186    0]]\n",
      "\n",
      "               precision    recall  f1-score   support\n",
      "\n",
      "          0       0.94      1.00      0.97      2966\n",
      "          1       0.00      0.00      0.00       186\n",
      "\n",
      "avg / total       0.89      0.94      0.91      3152\n",
      "\n"
     ]
    },
    {
     "name": "stderr",
     "output_type": "stream",
     "text": [
      "/anaconda3/envs/dsi/lib/python3.6/site-packages/sklearn/metrics/classification.py:1135: UndefinedMetricWarning: Precision and F-score are ill-defined and being set to 0.0 in labels with no predicted samples.\n",
      "  'precision', 'predicted', average, warn_for)\n"
     ]
    }
   ],
   "source": [
    "# Let's optimize k-nn for this dataset\n",
    "from sklearn.model_selection import GridSearchCV\n",
    "from sklearn.metrics import confusion_matrix\n",
    "from sklearn.metrics import accuracy_score\n",
    "from sklearn.metrics import classification_report\n",
    "import sklearn.model_selection as cv    # Pel Cross-validation\n",
    "import sklearn.neighbors as nb          # Per fer servir el knn\n",
    "\n",
    "# Maximizing Accuracy\n",
    "params = {'n_neighbors':list(range(1,30,10)), 'weights':('uniform','distance')}\n",
    "knc = nb.KNeighborsClassifier()\n",
    "clf = GridSearchCV(knc, param_grid=params,cv=10,n_jobs=-1)  # If cv is integer, by default is Stratifyed \n",
    "clf.fit(X_train, y_train)\n",
    "print(\"Best Params=\",clf.best_params_, \"\\nAccuracy on 10-fold cross-validation=\", clf.best_score_)\n",
    "parval=clf.best_params_\n",
    "knc = nb.KNeighborsClassifier(n_neighbors=parval['n_neighbors'],weights=parval['weights'])\n",
    "knc.fit(X_train, y_train)\n",
    "pred=knc.predict(X_test)\n",
    "validation_prediction = knc.predict(df_test)\n",
    "print(\"Accuracy on test set:\",accuracy_score(y_test, pred))\n",
    "\n",
    "print(\"confusion matrix on test set:\\n\",confusion_matrix(y_test, pred))\n",
    "print(\"\\n \",classification_report(y_test, pred))"
   ]
  },
  {
   "cell_type": "code",
   "execution_count": 121,
   "metadata": {},
   "outputs": [
    {
     "data": {
      "image/png": "[encoded data removed]",
      "text/plain": [
       "<matplotlib.figure.Figure at 0x110e7e358>"
      ]
     },
     "metadata": {},
     "output_type": "display_data"
    }
   ],
   "source": [
    "cm = confusion_matrix(y_test, y_pred,labels=None)\n",
    "sns.set_context(context='notebook', font_scale=1)\n",
    "ax = plt.subplot()\n",
    "sns.heatmap(cm, annot=True, ax = ax,fmt='g',cmap='Blues')\n",
    "ax.set_xlabel('Predicted')\n",
    "ax.set_ylabel('Actual')\n",
    "ax.set_title('K-Nearest Neighbors')\n",
    "ax.xaxis.set_ticklabels(['No WNV', 'WNV Present'])\n",
    "ax.yaxis.set_ticklabels(['WNV Present', 'No WNV'])\n",
    "plt.show()"
   ]
  },
  {
   "cell_type": "code",
   "execution_count": 122,
   "metadata": {},
   "outputs": [
    {
     "name": "stdout",
     "output_type": "stream",
     "text": [
      "Mean cross validation score: 0.9352770603959947\n"
     ]
    },
    {
     "data": {
      "image/png": "[encoded data removed]",
      "text/plain": [
       "<matplotlib.figure.Figure at 0x1117a8b00>"
      ]
     },
     "metadata": {},
     "output_type": "display_data"
    },
    {
     "name": "stdout",
     "output_type": "stream",
     "text": [
      "Top 20 most influential features used in the Random Forest Decision Tree\n"
     ]
    },
    {
     "data": {
      "text/html": [
       "<div>\n",
       "<style scoped>\n",
       "    .dataframe tbody tr th:only-of-type {\n",
       "        vertical-align: middle;\n",
       "    }\n",
       "\n",
       "    .dataframe tbody tr th {\n",
       "        vertical-align: top;\n",
       "    }\n",
       "\n",
       "    .dataframe thead th {\n",
       "        text-align: right;\n",
       "    }\n",
       "</style>\n",
       "<table border=\"1\" class=\"dataframe\">\n",
       "  <thead>\n",
       "    <tr style=\"text-align: right;\">\n",
       "      <th></th>\n",
       "      <th>importance</th>\n",
       "    </tr>\n",
       "  </thead>\n",
       "  <tbody>\n",
       "    <tr>\n",
       "      <th>Date_Number</th>\n",
       "      <td>0.07</td>\n",
       "    </tr>\n",
       "    <tr>\n",
       "      <th>Latitude</th>\n",
       "      <td>0.06</td>\n",
       "    </tr>\n",
       "    <tr>\n",
       "      <th>Longitude</th>\n",
       "      <td>0.05</td>\n",
       "    </tr>\n",
       "    <tr>\n",
       "      <th>ResultSpeed</th>\n",
       "      <td>0.05</td>\n",
       "    </tr>\n",
       "    <tr>\n",
       "      <th>AvgSpeed</th>\n",
       "      <td>0.05</td>\n",
       "    </tr>\n",
       "    <tr>\n",
       "      <th>Tavg</th>\n",
       "      <td>0.05</td>\n",
       "    </tr>\n",
       "    <tr>\n",
       "      <th>Species_CULEX PIPIENS/RESTUANS</th>\n",
       "      <td>0.04</td>\n",
       "    </tr>\n",
       "    <tr>\n",
       "      <th>Species_CULEX PIPIENS</th>\n",
       "      <td>0.04</td>\n",
       "    </tr>\n",
       "    <tr>\n",
       "      <th>ResultDir</th>\n",
       "      <td>0.04</td>\n",
       "    </tr>\n",
       "    <tr>\n",
       "      <th>Tmax</th>\n",
       "      <td>0.04</td>\n",
       "    </tr>\n",
       "    <tr>\n",
       "      <th>Tmin</th>\n",
       "      <td>0.04</td>\n",
       "    </tr>\n",
       "    <tr>\n",
       "      <th>MIST</th>\n",
       "      <td>0.02</td>\n",
       "    </tr>\n",
       "    <tr>\n",
       "      <th>Species_CULEX RESTUANS</th>\n",
       "      <td>0.02</td>\n",
       "    </tr>\n",
       "    <tr>\n",
       "      <th>PrecipTotal</th>\n",
       "      <td>0.02</td>\n",
       "    </tr>\n",
       "    <tr>\n",
       "      <th>Trap_T008</th>\n",
       "      <td>0.01</td>\n",
       "    </tr>\n",
       "    <tr>\n",
       "      <th>Trap_T013</th>\n",
       "      <td>0.01</td>\n",
       "    </tr>\n",
       "    <tr>\n",
       "      <th>Trap_T096</th>\n",
       "      <td>0.01</td>\n",
       "    </tr>\n",
       "    <tr>\n",
       "      <th>Block_65</th>\n",
       "      <td>0.01</td>\n",
       "    </tr>\n",
       "    <tr>\n",
       "      <th>Block_52</th>\n",
       "      <td>0.01</td>\n",
       "    </tr>\n",
       "    <tr>\n",
       "      <th>Block_41</th>\n",
       "      <td>0.01</td>\n",
       "    </tr>\n",
       "  </tbody>\n",
       "</table>\n",
       "</div>"
      ],
      "text/plain": [
       "                                importance\n",
       "Date_Number                           0.07\n",
       "Latitude                              0.06\n",
       "Longitude                             0.05\n",
       "ResultSpeed                           0.05\n",
       "AvgSpeed                              0.05\n",
       "Tavg                                  0.05\n",
       "Species_CULEX PIPIENS/RESTUANS        0.04\n",
       "Species_CULEX PIPIENS                 0.04\n",
       "ResultDir                             0.04\n",
       "Tmax                                  0.04\n",
       "Tmin                                  0.04\n",
       "MIST                                  0.02\n",
       "Species_CULEX RESTUANS                0.02\n",
       "PrecipTotal                           0.02\n",
       "Trap_T008                             0.01\n",
       "Trap_T013                             0.01\n",
       "Trap_T096                             0.01\n",
       "Block_65                              0.01\n",
       "Block_52                              0.01\n",
       "Block_41                              0.01"
      ]
     },
     "execution_count": 122,
     "metadata": {},
     "output_type": "execute_result"
    }
   ],
   "source": [
    "#Tried Resampling to improve score\n",
    "########################\n",
    "resampling = False\n",
    "########################\n",
    "\n",
    "rf = RandomForestClassifier(random_state=42,verbose=False)\n",
    "\n",
    "\n",
    "if resampling:\n",
    "    print('Resampling applied')\n",
    "    from collections import Counter\n",
    "    from imblearn.over_sampling import RandomOverSampler \n",
    "    ros = RandomOverSampler(ratio='minority')\n",
    "    X_train, y_train = ros.fit_sample(X_train, y_train)\n",
    "    confusion_matrix_title = 'Resampled Minority Random Forest'\n",
    "    X_train = pd.DataFrame(X_train)\n",
    "    X_test  = pd.DataFrame(X_test)\n",
    "    model = rf.fit(X_train,y_train)\n",
    "else:\n",
    "    model = rf.fit(X_train,y_train)\n",
    "    confusion_matrix_title = 'Random Forest'\n",
    "\n",
    "    \n",
    "scores = cross_val_score(rf, X_test, y_test)\n",
    "print('Mean cross validation score:',scores.mean())\n",
    "\n",
    "y_pred = model.predict(X_test)\n",
    "\n",
    "\n",
    "feature_importances = pd.DataFrame(rf.feature_importances_,\n",
    "                                   index = X_train.columns,\n",
    "                                   columns=['importance']).sort_values('importance', ascending=False)\n",
    "\n",
    "cm = confusion_matrix(y_test, y_pred,labels=None)\n",
    "sns.set_context(context='notebook', font_scale=1)\n",
    "ax = plt.subplot()\n",
    "sns.heatmap(cm, annot=True, ax = ax,fmt='g',cmap='Blues')\n",
    "ax.set_xlabel('Predicted')\n",
    "ax.set_ylabel('Actual')\n",
    "ax.set_title(confusion_matrix_title)\n",
    "ax.xaxis.set_ticklabels(['No WNV', 'WNV Present'])\n",
    "ax.yaxis.set_ticklabels(['WNV Present', 'No WNV'])\n",
    "plt.show()\n",
    "\n",
    "print('Top 20 most influential features used in the Random Forest Decision Tree')\n",
    "round(feature_importances,2).sort_values(by='importance',ascending=False).head(20)"
   ]
  },
  {
   "cell_type": "markdown",
   "metadata": {},
   "source": [
    "## Prediction with Logistic Regression"
   ]
  },
  {
   "cell_type": "code",
   "execution_count": 123,
   "metadata": {},
   "outputs": [
    {
     "name": "stdout",
     "output_type": "stream",
     "text": [
      "Mean cross validation score: 0.9409898358328425\n"
     ]
    },
    {
     "data": {
      "image/png": "[encoded data removed]",
      "text/plain": [
       "<matplotlib.figure.Figure at 0x11639dd68>"
      ]
     },
     "metadata": {},
     "output_type": "display_data"
    }
   ],
   "source": [
    "logreg = LogisticRegression(random_state=42,verbose=False)\n",
    "\n",
    "model = logreg.fit(X_train,y_train)\n",
    "\n",
    "scores = cross_val_score(logreg, X_test, y_test)\n",
    "print('Mean cross validation score:',scores.mean())\n",
    "\n",
    "cm = confusion_matrix(y_test, y_pred,labels=None)\n",
    "sns.set_context(context='notebook', font_scale=1)\n",
    "ax = plt.subplot()\n",
    "sns.heatmap(cm, annot=True, ax = ax,fmt='g',cmap='Blues')\n",
    "ax.set_xlabel('Predicted')\n",
    "ax.set_ylabel('Actual')\n",
    "ax.set_title('Logistic Regression')\n",
    "ax.xaxis.set_ticklabels(['No WNV', 'WNV Present'])\n",
    "ax.yaxis.set_ticklabels(['WNV Present', 'No WNV'])\n",
    "plt.show()\n",
    "\n"
   ]
  },
  {
   "cell_type": "markdown",
   "metadata": {},
   "source": [
    "# CONCLUSION"
   ]
  },
  {
   "cell_type": "markdown",
   "metadata": {},
   "source": [
    "## These  classifiers performed about the same. \n",
    "### 1.  K-Nearest Neighbors\n",
    "### 2.  Random Forest Classifier\n",
    "### 3.  Logistic Regression\n",
    "\n",
    "\n",
    "### Oversampling of minority class produced only a small improvement in prediction "
   ]
  },
  {
   "cell_type": "code",
   "execution_count": 124,
   "metadata": {},
   "outputs": [
    {
     "ename": "SyntaxError",
     "evalue": "invalid syntax (<ipython-input-124-1a3f95b62edd>, line 1)",
     "output_type": "error",
     "traceback": [
      "\u001b[0;36m  File \u001b[0;32m\"<ipython-input-124-1a3f95b62edd>\"\u001b[0;36m, line \u001b[0;32m1\u001b[0m\n\u001b[0;31m    Model prediction could improve if we had additional features to use for prediction\u001b[0m\n\u001b[0m                   ^\u001b[0m\n\u001b[0;31mSyntaxError\u001b[0m\u001b[0;31m:\u001b[0m invalid syntax\n"
     ]
    }
   ],
   "source": [
    "Model prediction could improve if we had additional features to use for prediction"
   ]
  },
  {
   "cell_type": "code",
   "execution_count": null,
   "metadata": {},
   "outputs": [],
   "source": [
    "# def kag_prep_pjt4(predictions, df, filename):\n",
    "#     '''Outputs a file with whatever is passed as filename.\n",
    "#     Intended to be a two column csv.'''\n",
    "#     df['Id'].map(lambda x: str(x) if type(x) != str else x)\n",
    "#     preds = pd.DataFrame(predictions)\n",
    "#     submission = pd.concat([df_test['Id'], preds], axis=1)\n",
    "#     submission.columns = [\"Id\", 'WnvPresent']\n",
    "#     return submission.to_csv(filename, index=False)"
   ]
  },
  {
   "cell_type": "code",
   "execution_count": null,
   "metadata": {},
   "outputs": [],
   "source": []
  },
  {
   "cell_type": "code",
   "execution_count": null,
   "metadata": {},
   "outputs": [],
   "source": [
    "#test_file    = pd.read_csv('../Assets/input/test.csv')\n",
    "#kag_prep_pjt4(validation_prediction,df_test,'thirdsubmission.csv')"
   ]
  }
 ],
 "metadata": {
  "kernelspec": {
   "display_name": "Python [conda env:dsi]",
   "language": "python",
   "name": "conda-env-dsi-py"
  },
  "language_info": {
   "codemirror_mode": {
    "name": "ipython",
    "version": 3
   },
   "file_extension": ".py",
   "mimetype": "text/x-python",
   "name": "python",
   "nbconvert_exporter": "python",
   "pygments_lexer": "ipython3",
   "version": "3.6.4"
  }
 },
 "nbformat": 4,
 "nbformat_minor": 2
}
